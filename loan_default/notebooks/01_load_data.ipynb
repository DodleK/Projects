{
 "cells": [
  {
   "cell_type": "code",
   "execution_count": null,
   "id": "7b0e002a-e845-4bce-918a-c63cced505ed",
   "metadata": {},
   "outputs": [],
   "source": []
  }
 ],
 "metadata": {
  "kernelspec": {
   "display_name": "",
   "name": ""
  },
  "language_info": {
   "name": ""
  }
 },
 "nbformat": 4,
 "nbformat_minor": 5
}
